{
 "cells": [
  {
   "cell_type": "code",
   "execution_count": 1,
   "id": "outside-appreciation",
   "metadata": {},
   "outputs": [
    {
     "name": "stdout",
     "output_type": "stream",
     "text": [
      "Requirement already satisfied: spotipy in /Users/saeedashukor/anaconda3/envs/myenv/lib/python3.7/site-packages (2.16.1)\n",
      "Requirement already satisfied: requests>=2.20.0 in /Users/saeedashukor/anaconda3/envs/myenv/lib/python3.7/site-packages (from spotipy) (2.25.1)\n",
      "Requirement already satisfied: six>=1.10.0 in /Users/saeedashukor/anaconda3/envs/myenv/lib/python3.7/site-packages (from spotipy) (1.15.0)\n",
      "Requirement already satisfied: idna<3,>=2.5 in /Users/saeedashukor/anaconda3/envs/myenv/lib/python3.7/site-packages (from requests>=2.20.0->spotipy) (2.10)\n",
      "Requirement already satisfied: chardet<5,>=3.0.2 in /Users/saeedashukor/anaconda3/envs/myenv/lib/python3.7/site-packages (from requests>=2.20.0->spotipy) (4.0.0)\n",
      "Requirement already satisfied: certifi>=2017.4.17 in /Users/saeedashukor/anaconda3/envs/myenv/lib/python3.7/site-packages (from requests>=2.20.0->spotipy) (2020.12.5)\n",
      "Requirement already satisfied: urllib3<1.27,>=1.21.1 in /Users/saeedashukor/anaconda3/envs/myenv/lib/python3.7/site-packages (from requests>=2.20.0->spotipy) (1.26.3)\n",
      "Requirement already satisfied: spotipy in /Users/saeedashukor/anaconda3/envs/myenv/lib/python3.7/site-packages (2.16.1)\n",
      "Requirement already satisfied: requests>=2.20.0 in /Users/saeedashukor/anaconda3/envs/myenv/lib/python3.7/site-packages (from spotipy) (2.25.1)\n",
      "Requirement already satisfied: six>=1.10.0 in /Users/saeedashukor/anaconda3/envs/myenv/lib/python3.7/site-packages (from spotipy) (1.15.0)\n",
      "Requirement already satisfied: idna<3,>=2.5 in /Users/saeedashukor/anaconda3/envs/myenv/lib/python3.7/site-packages (from requests>=2.20.0->spotipy) (2.10)\n",
      "Requirement already satisfied: chardet<5,>=3.0.2 in /Users/saeedashukor/anaconda3/envs/myenv/lib/python3.7/site-packages (from requests>=2.20.0->spotipy) (4.0.0)\n",
      "Requirement already satisfied: certifi>=2017.4.17 in /Users/saeedashukor/anaconda3/envs/myenv/lib/python3.7/site-packages (from requests>=2.20.0->spotipy) (2020.12.5)\n",
      "Requirement already satisfied: urllib3<1.27,>=1.21.1 in /Users/saeedashukor/anaconda3/envs/myenv/lib/python3.7/site-packages (from requests>=2.20.0->spotipy) (1.26.3)\n"
     ]
    }
   ],
   "source": [
    "# installing spotipy\n",
    "!pip install spotipy \n",
    "!pip3 install spotipy\n"
   ]
  },
  {
   "cell_type": "code",
   "execution_count": 2,
   "id": "decent-court",
   "metadata": {},
   "outputs": [
    {
     "ename": "ModuleNotFoundError",
     "evalue": "No module named 'pandas'",
     "output_type": "error",
     "traceback": [
      "\u001b[0;31m---------------------------------------------------------------------------\u001b[0m",
      "\u001b[0;31mModuleNotFoundError\u001b[0m                       Traceback (most recent call last)",
      "\u001b[0;32m<ipython-input-2-bd6d77f6382d>\u001b[0m in \u001b[0;36m<module>\u001b[0;34m\u001b[0m\n\u001b[1;32m      2\u001b[0m \u001b[0;32mimport\u001b[0m \u001b[0mos\u001b[0m\u001b[0;34m,\u001b[0m \u001b[0mjson\u001b[0m\u001b[0;34m\u001b[0m\u001b[0;34m\u001b[0m\u001b[0m\n\u001b[1;32m      3\u001b[0m \u001b[0;32mimport\u001b[0m \u001b[0msys\u001b[0m\u001b[0;34m\u001b[0m\u001b[0;34m\u001b[0m\u001b[0m\n\u001b[0;32m----> 4\u001b[0;31m \u001b[0;32mimport\u001b[0m \u001b[0mpandas\u001b[0m \u001b[0;32mas\u001b[0m \u001b[0mpd\u001b[0m\u001b[0;34m\u001b[0m\u001b[0;34m\u001b[0m\u001b[0m\n\u001b[0m\u001b[1;32m      5\u001b[0m \u001b[0;32mimport\u001b[0m \u001b[0mnumpy\u001b[0m \u001b[0;32mas\u001b[0m \u001b[0mnp\u001b[0m\u001b[0;34m\u001b[0m\u001b[0;34m\u001b[0m\u001b[0m\n\u001b[1;32m      6\u001b[0m \u001b[0;34m\u001b[0m\u001b[0m\n",
      "\u001b[0;31mModuleNotFoundError\u001b[0m: No module named 'pandas'"
     ]
    }
   ],
   "source": [
    "# importing the necessary packages\n",
    "import os, json\n",
    "import sys\n",
    "import pandas as pd\n",
    "import numpy as np\n",
    "\n",
    "import spotipy\n",
    "import spotipy.util as util\n",
    "from spotipy.oauth2 import SpotifyClientCredentials \n",
    "\n",
    "from sklearn.preprocessing import StandardScaler\n",
    "from sklearn.cluster import KMeans\n",
    "from sklearn.decomposition import PCA "
   ]
  },
  {
   "cell_type": "code",
   "execution_count": 3,
   "id": "tender-subcommittee",
   "metadata": {},
   "outputs": [
    {
     "ename": "NameError",
     "evalue": "name 'util' is not defined",
     "output_type": "error",
     "traceback": [
      "\u001b[0;31m---------------------------------------------------------------------------\u001b[0m",
      "\u001b[0;31mNameError\u001b[0m                                 Traceback (most recent call last)",
      "\u001b[0;32m<ipython-input-3-ed7ee1de4797>\u001b[0m in \u001b[0;36m<module>\u001b[0;34m\u001b[0m\n\u001b[1;32m     10\u001b[0m \u001b[0;34m\u001b[0m\u001b[0m\n\u001b[1;32m     11\u001b[0m \u001b[0;31m# connect to spotify\u001b[0m\u001b[0;34m\u001b[0m\u001b[0;34m\u001b[0m\u001b[0;34m\u001b[0m\u001b[0m\n\u001b[0;32m---> 12\u001b[0;31m token = util.prompt_for_user_token(username, scope = 'user-library-read, playlist-modify-public, playlist-modify-private',\n\u001b[0m\u001b[1;32m     13\u001b[0m                                   client_id = client_id, client_secret = client_secret, redirect_uri = redirect_uri)\n\u001b[1;32m     14\u001b[0m \u001b[0msp\u001b[0m \u001b[0;34m=\u001b[0m \u001b[0mspotipy\u001b[0m\u001b[0;34m.\u001b[0m\u001b[0mSpotify\u001b[0m\u001b[0;34m(\u001b[0m\u001b[0mauth\u001b[0m \u001b[0;34m=\u001b[0m \u001b[0mtoken\u001b[0m\u001b[0;34m)\u001b[0m\u001b[0;34m\u001b[0m\u001b[0;34m\u001b[0m\u001b[0m\n",
      "\u001b[0;31mNameError\u001b[0m: name 'util' is not defined"
     ]
    }
   ],
   "source": [
    "\n",
    "# set API keys\n",
    "client_id = os.getenv('SPOTIPY_CLIENT_ID')\n",
    "client_secret = os.getenv('SPOTIPY_CLIENT_SECRET')\n",
    "redirect_uri = os.getenv('SPOTIPY_REDIRECT_URI')\n",
    "\n",
    "username = 'xss1808'\n",
    "\n",
    "authorization_url = 'https://accounts.spotify.com/authorize'\n",
    "token_url = 'https://accounts.spotify.com/api/token'\n",
    "\n",
    "# connect to spotify\n",
    "token = util.prompt_for_user_token(username, scope = 'user-library-read, playlist-modify-public, playlist-modify-private',\n",
    "                                  client_id = client_id, client_secret = client_secret, redirect_uri = redirect_uri)\n",
    "sp = spotipy.Spotify(auth = token)"
   ]
  },
  {
   "cell_type": "code",
   "execution_count": 4,
   "id": "amazing-framework",
   "metadata": {},
   "outputs": [
    {
     "ename": "NameError",
     "evalue": "name 'SpotifyClientCredentials' is not defined",
     "output_type": "error",
     "traceback": [
      "\u001b[0;31m---------------------------------------------------------------------------\u001b[0m",
      "\u001b[0;31mNameError\u001b[0m                                 Traceback (most recent call last)",
      "\u001b[0;32m<ipython-input-4-cac393755063>\u001b[0m in \u001b[0;36m<module>\u001b[0;34m\u001b[0m\n\u001b[1;32m      1\u001b[0m \u001b[0;31m# token\u001b[0m\u001b[0;34m\u001b[0m\u001b[0;34m\u001b[0m\u001b[0;34m\u001b[0m\u001b[0m\n\u001b[0;32m----> 2\u001b[0;31m auth = SpotifyClientCredentials(\n\u001b[0m\u001b[1;32m      3\u001b[0m     \u001b[0mclient_id\u001b[0m\u001b[0;34m=\u001b[0m\u001b[0mclient_id_rnd\u001b[0m\u001b[0;34m,\u001b[0m\u001b[0;34m\u001b[0m\u001b[0;34m\u001b[0m\u001b[0m\n\u001b[1;32m      4\u001b[0m     \u001b[0mclient_secret\u001b[0m\u001b[0;34m=\u001b[0m\u001b[0mclient_secret_rnd\u001b[0m\u001b[0;34m\u001b[0m\u001b[0;34m\u001b[0m\u001b[0m\n\u001b[1;32m      5\u001b[0m )\n",
      "\u001b[0;31mNameError\u001b[0m: name 'SpotifyClientCredentials' is not defined"
     ]
    }
   ],
   "source": [
    "# token\n",
    "auth = SpotifyClientCredentials(\n",
    "    client_id=client_id_rnd,\n",
    "    client_secret=client_secret_rnd\n",
    ")\n",
    "\n",
    "token = auth.get_access_token()\n",
    "# Create Spotify object\n",
    "sp = spotipy.Spotify(auth=token)\n",
    "\n",
    "print(token)\n",
    "token = ''\n"
   ]
  },
  {
   "cell_type": "code",
   "execution_count": null,
   "id": "rental-enforcement",
   "metadata": {},
   "outputs": [],
   "source": [
    "### function to get the current user's saved tracks (track name, artist, id)\n",
    "def get_saved_tracks(limit = 50, offset = 0):\n",
    "    saved_tracks = [ ]\n",
    "    \n",
    "    # get initial list of tracks to determine length\n",
    "    saved_tracks_obj = sp.current_user_saved_tracks(limit = limit, offset = offset)\n",
    "    num_saved_tracks = saved_tracks_obj['total']\n",
    "    \n",
    "    # loop through to get all saved tracked\n",
    "    while (offset < num_saved_tracks):\n",
    "        saved_tracks_obj = sp.current_user_saved_tracks(limit = limit, offset = offset)\n",
    "        \n",
    "        # add track information to running list\n",
    "        for track_obj in saved_tracks_obj['items']:\n",
    "            saved_tracks.append({\n",
    "                'name': track_obj['track']['name'],\n",
    "                'artists': ', '.join([artist['name'] for artist in track_obj['track']['artists']]),\n",
    "                'track_id': track_obj['track']['id']\n",
    "            })\n",
    "            \n",
    "        offset += limit\n",
    "        \n",
    "    return saved_tracks\n",
    "\n",
    "### function to get tracks from a specified playlist (track name, artist, id)\n",
    "def get_playlist_tracks(user_id, playlist_id, limit = 100, offset = 0):\n",
    "    playlist_tracks = [ ]\n",
    "    \n",
    "    # get initial initial list of tracks in playlist to determine length\n",
    "    playlist_obj = sp.user_playlist_tracks(user = user_id, playlist_id = playlist_id, \\\n",
    "                                           limit = limit, offset = offset)\n",
    "    num_playlist_tracks = playlist_obj['total']\n",
    "    \n",
    "    # loop through to get all playlist tracks\n",
    "    while (offset < num_playlist_tracks):\n",
    "        playlist_obj = sp.user_playlist_tracks(user = user_id, playlist_id = playlist_id, \\\n",
    "                                               limit = limit, offset = offset)\n",
    "\n",
    "        # add track information to running list\n",
    "        for track_obj in playlist_obj['items']:\n",
    "            playlist_tracks.append({\n",
    "                'name': track_obj['track']['name'],\n",
    "                'artists': ', '.join([artist['name'] for artist in track_obj['track']['artists']]),\n",
    "                'track_id': track_obj['track']['id']\n",
    "            })\n",
    "            \n",
    "        offset += limit\n",
    "        \n",
    "    return playlist_tracks\n",
    "\n",
    "### function to get spotify audio features when given a list of track ids\n",
    "def get_audio_features(track_ids):\n",
    "    saved_tracks_audiofeat = [ ]\n",
    "    \n",
    "    # iterate through track_ids in groups of 50\n",
    "    for ix in range(0,len(track_ids),50):\n",
    "        audio_feats = sp.audio_features(track_ids[ix:ix+50])\n",
    "        saved_tracks_audiofeat += audio_feats\n",
    "        \n",
    "    return saved_tracks_audiofeat\n",
    "\n",
    "### function to  get all of the current user's playlists (playlist names, ids)\n",
    "def get_all_user_playlists(playlist_limit = 50, playlist_offset = 0):\n",
    "    # get initial list of users playlists (first n = playlist_limit), determine total number of playlists\n",
    "    playlists_obj = sp.user_playlists(user_id, limit = playlist_limit, offset = playlist_offset)\n",
    "    num_playlists = playlists_obj['total']\n",
    "\n",
    "    # start accumulating playlist names and ids\n",
    "    all_playlists = [{'name': playlist['name'], 'id': playlist['id']} for playlist in playlists_obj['items']]\n",
    "    playlist_offset += playlist_limit\n",
    "\n",
    "    # continue accumulating through all playlists\n",
    "    while (playlist_offset < num_playlists):\n",
    "        playlists_obj = sp.user_playlists(user_id, limit = playlist_limit, offset = playlist_offset)\n",
    "        all_playlists += [{'name': playlist['name'], 'id': playlist['id']} for playlist in playlists_obj['items']]\n",
    "        playlist_offset += playlist_limit\n",
    "        \n",
    "    return(all_playlists)"
   ]
  },
  {
   "cell_type": "code",
   "execution_count": null,
   "id": "intellectual-cologne",
   "metadata": {},
   "outputs": [],
   "source": [
    "# get list of saved songs\n",
    "saved_tracks    = get_saved_tracks()\n",
    "saved_tracks_df = pd.DataFrame(saved_tracks)\n",
    "\n",
    "print(\"tracks: %d\" % saved_tracks_df.shape[0])\n",
    "saved_tracks_df.head()"
   ]
  }
 ],
 "metadata": {
  "kernelspec": {
   "display_name": "Python 3",
   "language": "python",
   "name": "python3"
  },
  "language_info": {
   "codemirror_mode": {
    "name": "ipython",
    "version": 3
   },
   "file_extension": ".py",
   "mimetype": "text/x-python",
   "name": "python",
   "nbconvert_exporter": "python",
   "pygments_lexer": "ipython3",
   "version": "3.9.1"
  }
 },
 "nbformat": 4,
 "nbformat_minor": 5
}
